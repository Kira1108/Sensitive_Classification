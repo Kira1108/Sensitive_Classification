{
 "cells": [
  {
   "cell_type": "code",
   "execution_count": 60,
   "metadata": {},
   "outputs": [],
   "source": [
    "import pandas as pd\n",
    "import jieba\n",
    "import re\n",
    "import numpy as np"
   ]
  },
  {
   "cell_type": "code",
   "execution_count": 49,
   "metadata": {},
   "outputs": [],
   "source": [
    "def find_chinese(x):\n",
    "    pattern = re.compile(r'[^\\u4e00-\\u9fa5]')\n",
    "    chinese = re.sub(pattern, '', x)\n",
    "    return chinese\n",
    "\n",
    "def replace_puncs(x):\n",
    "    return re.sub(r'[^\\w\\s]','',x)\n",
    "\n",
    "def remove_blanks(x):\n",
    "    return re.sub(r'\\s{2,}','',x)\n",
    "\n",
    "def cut_text(x):\n",
    "    return list(jieba.cut(x,cut_all=False))\n",
    "\n",
    "def tokenize(df):\n",
    "    df.loc[:,'clean_sentence'] = df.sentence.apply(remove_blanks).apply(replace_puncs).apply(find_chinese).values\n",
    "    df.loc[:,'cutted_sentence'] = df.clean_sentence.apply(cut_text).values\n",
    "\n",
    "    return df[['sentence','cutted_sentence']].copy()\n",
    "\n",
    "def join_tokens(df):\n",
    "    df.loc[:,'reformed_sentence'] = df['cutted_sentence'].apply(lambda x:' '.join(x))\n",
    "    return df.copy()\n",
    "\n",
    "def add_label(df,label):\n",
    "    df.loc[:,'label'] = label\n",
    "    return df.copy()\n",
    "\n",
    "def preprocessing(df, label):\n",
    "    df = df.pipe(tokenize).pipe(join_tokens).pipe(add_label, label).copy()\n",
    "    return df"
   ]
  },
  {
   "cell_type": "code",
   "execution_count": 17,
   "metadata": {},
   "outputs": [],
   "source": [
    "negative = pd.read_csv(\"data/negative/negative_data.csv\")\n",
    "positive = pd.read_csv(\"data/positive/positive.csv\")"
   ]
  },
  {
   "cell_type": "code",
   "execution_count": 51,
   "metadata": {},
   "outputs": [],
   "source": [
    "positive_data = preprocessing(positive,1)\n",
    "negative_data = preprocessing(negative.head(5000),0)"
   ]
  },
  {
   "cell_type": "code",
   "execution_count": 53,
   "metadata": {},
   "outputs": [],
   "source": [
    "data = pd.concat([positive_data, negative_data], axis = 0)\n",
    "data = data[['reformed_sentence','label']].rename(columns = {'reformed_sentence':'sentence'})\n",
    "idx = np.arange(len(data))\n",
    "np.random.shuffle(idx)\n",
    "data = data.iloc[idx,:]"
   ]
  },
  {
   "cell_type": "code",
   "execution_count": 69,
   "metadata": {},
   "outputs": [],
   "source": [
    "data.to_csv(\"data/train_data.csv\", index = False)"
   ]
  }
 ],
 "metadata": {
  "kernelspec": {
   "display_name": "Python 3",
   "language": "python",
   "name": "python3"
  },
  "language_info": {
   "codemirror_mode": {
    "name": "ipython",
    "version": 3
   },
   "file_extension": ".py",
   "mimetype": "text/x-python",
   "name": "python",
   "nbconvert_exporter": "python",
   "pygments_lexer": "ipython3",
   "version": "3.8.3"
  }
 },
 "nbformat": 4,
 "nbformat_minor": 4
}
