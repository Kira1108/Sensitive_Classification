{
 "cells": [
  {
   "cell_type": "code",
   "execution_count": 6,
   "metadata": {},
   "outputs": [],
   "source": [
    "import pandas as pd\n",
    "import numpy as np\n",
    "import os\n",
    "import glob\n",
    "from pathlib import Path\n",
    "import json\n",
    "import re"
   ]
  },
  {
   "cell_type": "code",
   "execution_count": 9,
   "metadata": {},
   "outputs": [],
   "source": [
    "TARGET_PATH = \"./data/negative/negative_data.csv\"\n",
    "DATA_PATH = \"./data/negative/wiki_zh\""
   ]
  },
  {
   "cell_type": "code",
   "execution_count": 12,
   "metadata": {},
   "outputs": [],
   "source": [
    "class SentenceTokenizer():\n",
    "    pattern = re.compile('([﹒﹔﹖﹗．。！？][\"’”」』]{0,2}|(?=[\"‘“「『]{1,2}|$))')\n",
    "    @staticmethod\n",
    "    def sent_tokenize(article):\n",
    "        sent_list = []\n",
    "        for ele in SentenceTokenizer.pattern.split(article):\n",
    "            if SentenceTokenizer.pattern.match(ele) and sent_list:\n",
    "                sent_list[-1] += ele\n",
    "            elif ele:\n",
    "                sent_list.append(ele)\n",
    "        return sent_list\n",
    "    \n",
    "def make_sentence():\n",
    "    files = []\n",
    "    for path in Path(DATA_PATH).rglob('wiki*'):\n",
    "        if not os.path.isdir(path):\n",
    "            files.append(str(path))\n",
    "    lines = []\n",
    "    for file in files:\n",
    "        with open(file,'r', encoding = 'utf-8') as f:  \n",
    "            for line in f:\n",
    "                content = json.loads(line)['text']\n",
    "                for sent in SentenceTokenizer.sent_tokenize(content):\n",
    "                    lines.append(sent)\n",
    "    pd.DataFrame(lines, columns = ['sentence']).to_csv(TARGET_PATH, index = False)"
   ]
  },
  {
   "cell_type": "code",
   "execution_count": 11,
   "metadata": {},
   "outputs": [],
   "source": [
    "make_sentence()"
   ]
  },
  {
   "cell_type": "code",
   "execution_count": 18,
   "metadata": {},
   "outputs": [],
   "source": [
    "positive = pd.read_excel(\"data/positive/negative.xlsx\").iloc[:,0:1]\n",
    "positive.to_csv(\"data/positive/positive.csv\", index = False)"
   ]
  }
 ],
 "metadata": {
  "kernelspec": {
   "display_name": "Python 3",
   "language": "python",
   "name": "python3"
  },
  "language_info": {
   "codemirror_mode": {
    "name": "ipython",
    "version": 3
   },
   "file_extension": ".py",
   "mimetype": "text/x-python",
   "name": "python",
   "nbconvert_exporter": "python",
   "pygments_lexer": "ipython3",
   "version": "3.8.3"
  }
 },
 "nbformat": 4,
 "nbformat_minor": 4
}
